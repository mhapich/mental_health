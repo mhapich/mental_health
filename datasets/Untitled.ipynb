{
 "cells": [
  {
   "cell_type": "markdown",
   "id": "bbab420c-8c0e-4a32-8dc2-07ead21ef5f9",
   "metadata": {},
   "source": [
    "# Exploring the Volcanos of the World #"
   ]
  },
  {
   "cell_type": "markdown",
   "id": "bf5dfab6-3172-49de-af36-68d449e860d0",
   "metadata": {},
   "source": []
  }
 ],
 "metadata": {
  "kernelspec": {
   "display_name": "Python 3 (ipykernel)",
   "language": "python",
   "name": "python3"
  },
  "language_info": {
   "codemirror_mode": {
    "name": "ipython",
    "version": 3
   },
   "file_extension": ".py",
   "mimetype": "text/x-python",
   "name": "python",
   "nbconvert_exporter": "python",
   "pygments_lexer": "ipython3",
   "version": "3.9.7"
  }
 },
 "nbformat": 4,
 "nbformat_minor": 5
}
